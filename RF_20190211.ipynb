{
 "cells": [
  {
   "cell_type": "code",
   "execution_count": 63,
   "metadata": {},
   "outputs": [],
   "source": [
    "#Pandas is used for data manipulation\n",
    "import pandas as pd"
   ]
  },
  {
   "cell_type": "code",
   "execution_count": 64,
   "metadata": {
    "scrolled": false
   },
   "outputs": [
    {
     "data": {
      "text/html": [
       "<div>\n",
       "<style scoped>\n",
       "    .dataframe tbody tr th:only-of-type {\n",
       "        vertical-align: middle;\n",
       "    }\n",
       "\n",
       "    .dataframe tbody tr th {\n",
       "        vertical-align: top;\n",
       "    }\n",
       "\n",
       "    .dataframe thead th {\n",
       "        text-align: right;\n",
       "    }\n",
       "</style>\n",
       "<table border=\"1\" class=\"dataframe\">\n",
       "  <thead>\n",
       "    <tr style=\"text-align: right;\">\n",
       "      <th></th>\n",
       "      <th>O</th>\n",
       "      <th>C</th>\n",
       "      <th>E</th>\n",
       "      <th>A</th>\n",
       "      <th>N</th>\n",
       "      <th>Age</th>\n",
       "      <th>Job</th>\n",
       "      <th>Marriage</th>\n",
       "      <th>Edu</th>\n",
       "      <th>Major</th>\n",
       "      <th>Religion</th>\n",
       "      <th>Salary</th>\n",
       "      <th>Vehicles</th>\n",
       "      <th>Comm T</th>\n",
       "      <th>Travel</th>\n",
       "      <th>SNS</th>\n",
       "      <th>SNS2</th>\n",
       "      <th>Culture</th>\n",
       "      <th>AAA</th>\n",
       "    </tr>\n",
       "  </thead>\n",
       "  <tbody>\n",
       "    <tr>\n",
       "      <th>0</th>\n",
       "      <td>3.3</td>\n",
       "      <td>3.9</td>\n",
       "      <td>3.3</td>\n",
       "      <td>3.7</td>\n",
       "      <td>2.6</td>\n",
       "      <td>2</td>\n",
       "      <td>1</td>\n",
       "      <td>2</td>\n",
       "      <td>2</td>\n",
       "      <td>4</td>\n",
       "      <td>1</td>\n",
       "      <td>2</td>\n",
       "      <td>4</td>\n",
       "      <td>3</td>\n",
       "      <td>2</td>\n",
       "      <td>1</td>\n",
       "      <td>3</td>\n",
       "      <td>3</td>\n",
       "      <td>0.01705</td>\n",
       "    </tr>\n",
       "    <tr>\n",
       "      <th>1</th>\n",
       "      <td>2.7</td>\n",
       "      <td>3.2</td>\n",
       "      <td>3.2</td>\n",
       "      <td>2.7</td>\n",
       "      <td>2.8</td>\n",
       "      <td>2</td>\n",
       "      <td>1</td>\n",
       "      <td>2</td>\n",
       "      <td>2</td>\n",
       "      <td>4</td>\n",
       "      <td>3</td>\n",
       "      <td>2</td>\n",
       "      <td>4</td>\n",
       "      <td>3</td>\n",
       "      <td>2</td>\n",
       "      <td>2</td>\n",
       "      <td>0</td>\n",
       "      <td>3</td>\n",
       "      <td>0.00551</td>\n",
       "    </tr>\n",
       "    <tr>\n",
       "      <th>2</th>\n",
       "      <td>4.3</td>\n",
       "      <td>3.1</td>\n",
       "      <td>2.3</td>\n",
       "      <td>3.2</td>\n",
       "      <td>2.9</td>\n",
       "      <td>3</td>\n",
       "      <td>3</td>\n",
       "      <td>2</td>\n",
       "      <td>4</td>\n",
       "      <td>4</td>\n",
       "      <td>2</td>\n",
       "      <td>5</td>\n",
       "      <td>2</td>\n",
       "      <td>2</td>\n",
       "      <td>2</td>\n",
       "      <td>2</td>\n",
       "      <td>0</td>\n",
       "      <td>2</td>\n",
       "      <td>0.13559</td>\n",
       "    </tr>\n",
       "    <tr>\n",
       "      <th>3</th>\n",
       "      <td>4.2</td>\n",
       "      <td>4.3</td>\n",
       "      <td>3.5</td>\n",
       "      <td>3.6</td>\n",
       "      <td>2.6</td>\n",
       "      <td>2</td>\n",
       "      <td>1</td>\n",
       "      <td>2</td>\n",
       "      <td>4</td>\n",
       "      <td>4</td>\n",
       "      <td>4</td>\n",
       "      <td>2</td>\n",
       "      <td>4</td>\n",
       "      <td>3</td>\n",
       "      <td>3</td>\n",
       "      <td>1</td>\n",
       "      <td>2</td>\n",
       "      <td>2</td>\n",
       "      <td>0.25833</td>\n",
       "    </tr>\n",
       "    <tr>\n",
       "      <th>4</th>\n",
       "      <td>4.0</td>\n",
       "      <td>3.7</td>\n",
       "      <td>4.0</td>\n",
       "      <td>3.9</td>\n",
       "      <td>2.8</td>\n",
       "      <td>2</td>\n",
       "      <td>1</td>\n",
       "      <td>2</td>\n",
       "      <td>3</td>\n",
       "      <td>4</td>\n",
       "      <td>1</td>\n",
       "      <td>1</td>\n",
       "      <td>4</td>\n",
       "      <td>3</td>\n",
       "      <td>1</td>\n",
       "      <td>1</td>\n",
       "      <td>3</td>\n",
       "      <td>1</td>\n",
       "      <td>0.08292</td>\n",
       "    </tr>\n",
       "  </tbody>\n",
       "</table>\n",
       "</div>"
      ],
      "text/plain": [
       "     O    C    E    A    N  Age  Job  Marriage  Edu  Major  Religion  Salary  \\\n",
       "0  3.3  3.9  3.3  3.7  2.6    2    1         2    2      4         1       2   \n",
       "1  2.7  3.2  3.2  2.7  2.8    2    1         2    2      4         3       2   \n",
       "2  4.3  3.1  2.3  3.2  2.9    3    3         2    4      4         2       5   \n",
       "3  4.2  4.3  3.5  3.6  2.6    2    1         2    4      4         4       2   \n",
       "4  4.0  3.7  4.0  3.9  2.8    2    1         2    3      4         1       1   \n",
       "\n",
       "   Vehicles  Comm T  Travel  SNS  SNS2  Culture      AAA  \n",
       "0         4       3       2    1     3        3  0.01705  \n",
       "1         4       3       2    2     0        3  0.00551  \n",
       "2         2       2       2    2     0        2  0.13559  \n",
       "3         4       3       3    1     2        2  0.25833  \n",
       "4         4       3       1    1     3        1  0.08292  "
      ]
     },
     "execution_count": 64,
     "metadata": {},
     "output_type": "execute_result"
    }
   ],
   "source": [
    "#Read in data and display first 5rows\n",
    "features=pd.read_csv('SampleData_A.csv')\n",
    "features.head(5)"
   ]
  },
  {
   "cell_type": "code",
   "execution_count": 65,
   "metadata": {},
   "outputs": [
    {
     "name": "stdout",
     "output_type": "stream",
     "text": [
      "The shape of our features is:  (5, 19)\n"
     ]
    }
   ],
   "source": [
    "print('The shape of our features is: ', features.shape)"
   ]
  },
  {
   "cell_type": "code",
   "execution_count": 66,
   "metadata": {},
   "outputs": [],
   "source": [
    "#Descriptive statistics for each column\n",
    "#features.describe()"
   ]
  },
  {
   "cell_type": "code",
   "execution_count": 67,
   "metadata": {},
   "outputs": [],
   "source": [
    "#Use numpy to convert to arrays\n",
    "import numpy as np"
   ]
  },
  {
   "cell_type": "code",
   "execution_count": 68,
   "metadata": {},
   "outputs": [],
   "source": [
    "#Labels are the values we want to predict\n",
    "labels=np.array(features['AAA'])"
   ]
  },
  {
   "cell_type": "code",
   "execution_count": 69,
   "metadata": {},
   "outputs": [
    {
     "data": {
      "text/html": [
       "<div>\n",
       "<style scoped>\n",
       "    .dataframe tbody tr th:only-of-type {\n",
       "        vertical-align: middle;\n",
       "    }\n",
       "\n",
       "    .dataframe tbody tr th {\n",
       "        vertical-align: top;\n",
       "    }\n",
       "\n",
       "    .dataframe thead th {\n",
       "        text-align: right;\n",
       "    }\n",
       "</style>\n",
       "<table border=\"1\" class=\"dataframe\">\n",
       "  <thead>\n",
       "    <tr style=\"text-align: right;\">\n",
       "      <th></th>\n",
       "      <th>O</th>\n",
       "      <th>C</th>\n",
       "      <th>E</th>\n",
       "      <th>A</th>\n",
       "      <th>N</th>\n",
       "      <th>Age</th>\n",
       "      <th>Job</th>\n",
       "      <th>Marriage</th>\n",
       "      <th>Edu</th>\n",
       "      <th>Major</th>\n",
       "      <th>Religion</th>\n",
       "      <th>Salary</th>\n",
       "      <th>Vehicles</th>\n",
       "      <th>Comm T</th>\n",
       "      <th>Travel</th>\n",
       "      <th>SNS</th>\n",
       "      <th>SNS2</th>\n",
       "      <th>Culture</th>\n",
       "    </tr>\n",
       "  </thead>\n",
       "  <tbody>\n",
       "    <tr>\n",
       "      <th>0</th>\n",
       "      <td>3.3</td>\n",
       "      <td>3.9</td>\n",
       "      <td>3.3</td>\n",
       "      <td>3.7</td>\n",
       "      <td>2.6</td>\n",
       "      <td>2</td>\n",
       "      <td>1</td>\n",
       "      <td>2</td>\n",
       "      <td>2</td>\n",
       "      <td>4</td>\n",
       "      <td>1</td>\n",
       "      <td>2</td>\n",
       "      <td>4</td>\n",
       "      <td>3</td>\n",
       "      <td>2</td>\n",
       "      <td>1</td>\n",
       "      <td>3</td>\n",
       "      <td>3</td>\n",
       "    </tr>\n",
       "    <tr>\n",
       "      <th>1</th>\n",
       "      <td>2.7</td>\n",
       "      <td>3.2</td>\n",
       "      <td>3.2</td>\n",
       "      <td>2.7</td>\n",
       "      <td>2.8</td>\n",
       "      <td>2</td>\n",
       "      <td>1</td>\n",
       "      <td>2</td>\n",
       "      <td>2</td>\n",
       "      <td>4</td>\n",
       "      <td>3</td>\n",
       "      <td>2</td>\n",
       "      <td>4</td>\n",
       "      <td>3</td>\n",
       "      <td>2</td>\n",
       "      <td>2</td>\n",
       "      <td>0</td>\n",
       "      <td>3</td>\n",
       "    </tr>\n",
       "    <tr>\n",
       "      <th>2</th>\n",
       "      <td>4.3</td>\n",
       "      <td>3.1</td>\n",
       "      <td>2.3</td>\n",
       "      <td>3.2</td>\n",
       "      <td>2.9</td>\n",
       "      <td>3</td>\n",
       "      <td>3</td>\n",
       "      <td>2</td>\n",
       "      <td>4</td>\n",
       "      <td>4</td>\n",
       "      <td>2</td>\n",
       "      <td>5</td>\n",
       "      <td>2</td>\n",
       "      <td>2</td>\n",
       "      <td>2</td>\n",
       "      <td>2</td>\n",
       "      <td>0</td>\n",
       "      <td>2</td>\n",
       "    </tr>\n",
       "    <tr>\n",
       "      <th>3</th>\n",
       "      <td>4.2</td>\n",
       "      <td>4.3</td>\n",
       "      <td>3.5</td>\n",
       "      <td>3.6</td>\n",
       "      <td>2.6</td>\n",
       "      <td>2</td>\n",
       "      <td>1</td>\n",
       "      <td>2</td>\n",
       "      <td>4</td>\n",
       "      <td>4</td>\n",
       "      <td>4</td>\n",
       "      <td>2</td>\n",
       "      <td>4</td>\n",
       "      <td>3</td>\n",
       "      <td>3</td>\n",
       "      <td>1</td>\n",
       "      <td>2</td>\n",
       "      <td>2</td>\n",
       "    </tr>\n",
       "    <tr>\n",
       "      <th>4</th>\n",
       "      <td>4.0</td>\n",
       "      <td>3.7</td>\n",
       "      <td>4.0</td>\n",
       "      <td>3.9</td>\n",
       "      <td>2.8</td>\n",
       "      <td>2</td>\n",
       "      <td>1</td>\n",
       "      <td>2</td>\n",
       "      <td>3</td>\n",
       "      <td>4</td>\n",
       "      <td>1</td>\n",
       "      <td>1</td>\n",
       "      <td>4</td>\n",
       "      <td>3</td>\n",
       "      <td>1</td>\n",
       "      <td>1</td>\n",
       "      <td>3</td>\n",
       "      <td>1</td>\n",
       "    </tr>\n",
       "  </tbody>\n",
       "</table>\n",
       "</div>"
      ],
      "text/plain": [
       "     O    C    E    A    N  Age  Job  Marriage  Edu  Major  Religion  Salary  \\\n",
       "0  3.3  3.9  3.3  3.7  2.6    2    1         2    2      4         1       2   \n",
       "1  2.7  3.2  3.2  2.7  2.8    2    1         2    2      4         3       2   \n",
       "2  4.3  3.1  2.3  3.2  2.9    3    3         2    4      4         2       5   \n",
       "3  4.2  4.3  3.5  3.6  2.6    2    1         2    4      4         4       2   \n",
       "4  4.0  3.7  4.0  3.9  2.8    2    1         2    3      4         1       1   \n",
       "\n",
       "   Vehicles  Comm T  Travel  SNS  SNS2  Culture  \n",
       "0         4       3       2    1     3        3  \n",
       "1         4       3       2    2     0        3  \n",
       "2         2       2       2    2     0        2  \n",
       "3         4       3       3    1     2        2  \n",
       "4         4       3       1    1     3        1  "
      ]
     },
     "execution_count": 69,
     "metadata": {},
     "output_type": "execute_result"
    }
   ],
   "source": [
    "#Remove the labels from the features\n",
    "#axis 1 refers to the columns\n",
    "features= features.drop('AAA', axis=1)\n",
    "features.head(5)"
   ]
  },
  {
   "cell_type": "code",
   "execution_count": 70,
   "metadata": {},
   "outputs": [],
   "source": [
    "#Saving feature names for later use\n",
    "feature_list=list(features.columns)\n",
    "\n",
    "#Convert to numpy array\n",
    "features=np.array(features)"
   ]
  },
  {
   "cell_type": "code",
   "execution_count": 71,
   "metadata": {},
   "outputs": [],
   "source": [
    "#Using Scikit-learn to split data into training and testing sets\n",
    "from sklearn.model_selection import train_test_split\n",
    "\n",
    "#Split the data into training and testing sets\n",
    "train_features, test_features, train_labels, test_labels= train_test_split(features, labels, test_size=0.25, random_state=42)"
   ]
  },
  {
   "cell_type": "code",
   "execution_count": 72,
   "metadata": {},
   "outputs": [
    {
     "name": "stdout",
     "output_type": "stream",
     "text": [
      "Training Features Shape:  (3, 18)\n",
      "Training Labels Shape:  (3,)\n",
      "Testing Features Shape:  (2, 18)\n",
      "Testing Labels Shape:  (2,)\n"
     ]
    }
   ],
   "source": [
    "print('Training Features Shape: ', train_features.shape)\n",
    "print('Training Labels Shape: ', train_labels.shape)\n",
    "print('Testing Features Shape: ', test_features.shape)\n",
    "print('Testing Labels Shape: ', test_labels.shape)"
   ]
  },
  {
   "cell_type": "code",
   "execution_count": 73,
   "metadata": {},
   "outputs": [],
   "source": [
    "#Import the model we are using\n",
    "from sklearn.ensemble import RandomForestRegressor\n",
    "\n",
    "#Instantiate model with 50 decision trees\n",
    "rf=RandomForestRegressor(n_estimators=100, random_state=42)\n",
    "\n",
    "#Train the model on training data\n",
    "rf.fit(train_features, train_labels);"
   ]
  },
  {
   "cell_type": "code",
   "execution_count": 74,
   "metadata": {},
   "outputs": [
    {
     "name": "stdout",
     "output_type": "stream",
     "text": [
      "Mean Absolute Errors:  0.08 degrees.\n"
     ]
    }
   ],
   "source": [
    "#Use the forest's predict method on the test\n",
    "predictions = rf.predict(test_features)\n",
    "\n",
    "#Calculate the absoulte errors\n",
    "errors=abs(predictions - test_labels)\n",
    "\n",
    "#Print out the mean absolute error(mae)\n",
    "print('Mean Absolute Errors: ', round(np.mean(errors), 2), 'degrees.')"
   ]
  },
  {
   "cell_type": "code",
   "execution_count": 75,
   "metadata": {
    "scrolled": true
   },
   "outputs": [
    {
     "name": "stdout",
     "output_type": "stream",
     "text": [
      "Accuracy:  -991.5 %.\n"
     ]
    }
   ],
   "source": [
    "#Calculate mean absolute percentage error (MAPE)\n",
    "mape= 100*(errors/test_labels)\n",
    "\n",
    "#Calculate and display accuracy\n",
    "accuracy=100 - np.mean(mape)\n",
    "print('Accuracy: ', round(accuracy,2), '%.')\n",
    "#print(rf.feature_importances_)"
   ]
  },
  {
   "cell_type": "code",
   "execution_count": 76,
   "metadata": {},
   "outputs": [],
   "source": [
    "#Import tools needed for visualization\n",
    "from sklearn.tree import export_graphviz\n",
    "import pydot\n",
    "#Pull out one tree from the forest\n",
    "tree=rf.estimators_[5]"
   ]
  },
  {
   "cell_type": "code",
   "execution_count": 77,
   "metadata": {},
   "outputs": [],
   "source": [
    "#Export the image to a dot file \n",
    "export_graphviz(tree, out_file='tree_1.dot', feature_names=feature_list, rounded=True, precision=1)"
   ]
  },
  {
   "cell_type": "code",
   "execution_count": 78,
   "metadata": {},
   "outputs": [],
   "source": [
    "#Use dot file to create a graph\n",
    "(graph, )=pydot.graph_from_dot_file('tree_1.dot')"
   ]
  },
  {
   "cell_type": "code",
   "execution_count": 79,
   "metadata": {},
   "outputs": [],
   "source": [
    "#Write graph to a png file\n",
    "#graph.write_png('tree1.png')"
   ]
  },
  {
   "cell_type": "code",
   "execution_count": 80,
   "metadata": {},
   "outputs": [
    {
     "name": "stdout",
     "output_type": "stream",
     "text": [
      "Valiable: E                    Importance: 0.12\n",
      "Valiable: A                    Importance: 0.11\n",
      "Valiable: Religion             Importance: 0.11\n",
      "Valiable: C                    Importance: 0.08\n",
      "Valiable: Culture              Importance: 0.08\n",
      "Valiable: Age                  Importance: 0.06\n",
      "Valiable: O                    Importance: 0.05\n",
      "Valiable: Job                  Importance: 0.03\n",
      "Valiable: Edu                  Importance: 0.03\n",
      "Valiable: Comm T               Importance: 0.03\n",
      "Valiable: Travel               Importance: 0.03\n",
      "Valiable: SNS2                 Importance: 0.03\n",
      "Valiable: Salary               Importance: 0.02\n",
      "Valiable: Vehicles             Importance: 0.02\n",
      "Valiable: SNS                  Importance: 0.02\n",
      "Valiable: N                    Importance: 0.01\n",
      "Valiable: Marriage             Importance: 0.0\n",
      "Valiable: Major                Importance: 0.0\n"
     ]
    }
   ],
   "source": [
    "#Variable Importances\n",
    "\n",
    "#Get numerical feature importances\n",
    "importances=list(rf.feature_importances_)\n",
    "\n",
    "#List of tuples with variable and importance\n",
    "feature_importances=[(feature, round(importance, 2)) for feature, importance in zip(feature_list, importances)]\n",
    "\n",
    "#Sort the feature importances by most important first\n",
    "feature_importances = sorted(feature_importances, key=lambda x: x[1], reverse = True)\n",
    "\n",
    "#Print out the feature and importances\n",
    "[print('Valiable: {:20} Importance: {}'.format(*pair)) for pair in feature_importances];"
   ]
  },
  {
   "cell_type": "code",
   "execution_count": 81,
   "metadata": {},
   "outputs": [
    {
     "data": {
      "image/png": "[encoded data removed]",
      "text/plain": [
       "<Figure size 432x288 with 1 Axes>"
      ]
     },
     "metadata": {},
     "output_type": "display_data"
    }
   ],
   "source": [
    "#Visualization\n",
    "\n",
    "#Import matplotlib for plotting and use magic command for Jupyter Notebooks\n",
    "import matplotlib.pyplot as plt\n",
    "\n",
    "%matplotlib inline\n",
    "\n",
    "#Set the style\n",
    "plt.style.use('fivethirtyeight')\n",
    "\n",
    "#list of x locations for plotting\n",
    "x_values=list(range(len(importances)))\n",
    "\n",
    "#Make a bar chart\n",
    "plt.bar(x_values, importances, orientation='vertical')\n",
    "\n",
    "#Tick labels for x axis\n",
    "plt.xticks(x_values, feature_list, rotation='vertical')\n",
    "\n",
    "#Axis labels and title\n",
    "plt.ylabel('Importance'); plt.xlabel('Variable');\n",
    "plt.title('Variable Importances');"
   ]
  },
  {
   "cell_type": "code",
   "execution_count": null,
   "metadata": {},
   "outputs": [],
   "source": []
  },
  {
   "cell_type": "code",
   "execution_count": null,
   "metadata": {},
   "outputs": [],
   "source": []
  }
 ],
 "metadata": {
  "kernelspec": {
   "display_name": "Python 3",
   "language": "python",
   "name": "python3"
  },
  "language_info": {
   "codemirror_mode": {
    "name": "ipython",
    "version": 3
   },
   "file_extension": ".py",
   "mimetype": "text/x-python",
   "name": "python",
   "nbconvert_exporter": "python",
   "pygments_lexer": "ipython3",
   "version": "3.7.1"
  }
 },
 "nbformat": 4,
 "nbformat_minor": 2
}
